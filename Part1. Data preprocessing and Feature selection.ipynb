{
 "cells": [
  {
   "cell_type": "code",
   "execution_count": 1,
   "metadata": {},
   "outputs": [],
   "source": [
    "#import library\n",
    "import pandas as pd\n",
    "import warnings\n",
    "warnings.filterwarnings(\"ignore\")"
   ]
  },
  {
   "cell_type": "markdown",
   "metadata": {},
   "source": [
    "# Data Clean\n",
    "Combine all the data, choose metric"
   ]
  },
  {
   "cell_type": "code",
   "execution_count": 2,
   "metadata": {},
   "outputs": [],
   "source": [
    "df1 = pd.read_csv(\"listings_Aug.csv\")\n",
    "df2 = pd.read_csv(\"listings_Jul.csv\")\n",
    "df3 = pd.read_csv(\"listings_Jun.csv\")\n",
    "df4 = pd.read_csv(\"listings_Sep.csv\")"
   ]
  },
  {
   "cell_type": "code",
   "execution_count": 3,
   "metadata": {},
   "outputs": [],
   "source": [
    "df = pd.concat([df1, df2, df3, df4])"
   ]
  },
  {
   "cell_type": "code",
   "execution_count": 4,
   "metadata": {},
   "outputs": [
    {
     "data": {
      "text/html": [
       "<div>\n",
       "<style scoped>\n",
       "    .dataframe tbody tr th:only-of-type {\n",
       "        vertical-align: middle;\n",
       "    }\n",
       "\n",
       "    .dataframe tbody tr th {\n",
       "        vertical-align: top;\n",
       "    }\n",
       "\n",
       "    .dataframe thead th {\n",
       "        text-align: right;\n",
       "    }\n",
       "</style>\n",
       "<table border=\"1\" class=\"dataframe\">\n",
       "  <thead>\n",
       "    <tr style=\"text-align: right;\">\n",
       "      <th></th>\n",
       "      <th>id</th>\n",
       "      <th>scrape_id</th>\n",
       "      <th>thumbnail_url</th>\n",
       "      <th>medium_url</th>\n",
       "      <th>xl_picture_url</th>\n",
       "      <th>host_id</th>\n",
       "      <th>host_acceptance_rate</th>\n",
       "      <th>host_listings_count</th>\n",
       "      <th>host_total_listings_count</th>\n",
       "      <th>latitude</th>\n",
       "      <th>...</th>\n",
       "      <th>review_scores_cleanliness</th>\n",
       "      <th>review_scores_checkin</th>\n",
       "      <th>review_scores_communication</th>\n",
       "      <th>review_scores_location</th>\n",
       "      <th>review_scores_value</th>\n",
       "      <th>calculated_host_listings_count</th>\n",
       "      <th>calculated_host_listings_count_entire_homes</th>\n",
       "      <th>calculated_host_listings_count_private_rooms</th>\n",
       "      <th>calculated_host_listings_count_shared_rooms</th>\n",
       "      <th>reviews_per_month</th>\n",
       "    </tr>\n",
       "  </thead>\n",
       "  <tbody>\n",
       "    <tr>\n",
       "      <th>count</th>\n",
       "      <td>1.949370e+05</td>\n",
       "      <td>1.949370e+05</td>\n",
       "      <td>0.0</td>\n",
       "      <td>0.0</td>\n",
       "      <td>0.0</td>\n",
       "      <td>1.949370e+05</td>\n",
       "      <td>0.0</td>\n",
       "      <td>194864.000000</td>\n",
       "      <td>194864.000000</td>\n",
       "      <td>194937.000000</td>\n",
       "      <td>...</td>\n",
       "      <td>151066.000000</td>\n",
       "      <td>150931.000000</td>\n",
       "      <td>151020.000000</td>\n",
       "      <td>150915.000000</td>\n",
       "      <td>150920.00000</td>\n",
       "      <td>194937.000000</td>\n",
       "      <td>194937.000000</td>\n",
       "      <td>194937.000000</td>\n",
       "      <td>194937.000000</td>\n",
       "      <td>154979.000000</td>\n",
       "    </tr>\n",
       "    <tr>\n",
       "      <th>mean</th>\n",
       "      <td>1.920626e+07</td>\n",
       "      <td>2.019076e+13</td>\n",
       "      <td>NaN</td>\n",
       "      <td>NaN</td>\n",
       "      <td>NaN</td>\n",
       "      <td>6.875024e+07</td>\n",
       "      <td>NaN</td>\n",
       "      <td>14.931234</td>\n",
       "      <td>14.931234</td>\n",
       "      <td>40.728892</td>\n",
       "      <td>...</td>\n",
       "      <td>9.277025</td>\n",
       "      <td>9.747852</td>\n",
       "      <td>9.755734</td>\n",
       "      <td>9.564642</td>\n",
       "      <td>9.39829</td>\n",
       "      <td>7.428108</td>\n",
       "      <td>5.792492</td>\n",
       "      <td>1.482797</td>\n",
       "      <td>0.114350</td>\n",
       "      <td>1.369951</td>\n",
       "    </tr>\n",
       "    <tr>\n",
       "      <th>std</th>\n",
       "      <td>1.112289e+07</td>\n",
       "      <td>1.148037e+08</td>\n",
       "      <td>NaN</td>\n",
       "      <td>NaN</td>\n",
       "      <td>NaN</td>\n",
       "      <td>7.977780e+07</td>\n",
       "      <td>NaN</td>\n",
       "      <td>88.492453</td>\n",
       "      <td>88.492453</td>\n",
       "      <td>0.054628</td>\n",
       "      <td>...</td>\n",
       "      <td>1.081108</td>\n",
       "      <td>0.712790</td>\n",
       "      <td>0.722937</td>\n",
       "      <td>0.759635</td>\n",
       "      <td>0.90775</td>\n",
       "      <td>34.606020</td>\n",
       "      <td>33.749277</td>\n",
       "      <td>5.979127</td>\n",
       "      <td>1.016152</td>\n",
       "      <td>1.677797</td>\n",
       "    </tr>\n",
       "    <tr>\n",
       "      <th>min</th>\n",
       "      <td>2.539000e+03</td>\n",
       "      <td>2.019060e+13</td>\n",
       "      <td>NaN</td>\n",
       "      <td>NaN</td>\n",
       "      <td>NaN</td>\n",
       "      <td>2.420000e+03</td>\n",
       "      <td>NaN</td>\n",
       "      <td>0.000000</td>\n",
       "      <td>0.000000</td>\n",
       "      <td>40.499790</td>\n",
       "      <td>...</td>\n",
       "      <td>2.000000</td>\n",
       "      <td>2.000000</td>\n",
       "      <td>2.000000</td>\n",
       "      <td>2.000000</td>\n",
       "      <td>2.00000</td>\n",
       "      <td>1.000000</td>\n",
       "      <td>0.000000</td>\n",
       "      <td>0.000000</td>\n",
       "      <td>0.000000</td>\n",
       "      <td>0.010000</td>\n",
       "    </tr>\n",
       "    <tr>\n",
       "      <th>25%</th>\n",
       "      <td>9.514193e+06</td>\n",
       "      <td>2.019060e+13</td>\n",
       "      <td>NaN</td>\n",
       "      <td>NaN</td>\n",
       "      <td>NaN</td>\n",
       "      <td>7.958923e+06</td>\n",
       "      <td>NaN</td>\n",
       "      <td>1.000000</td>\n",
       "      <td>1.000000</td>\n",
       "      <td>40.689930</td>\n",
       "      <td>...</td>\n",
       "      <td>9.000000</td>\n",
       "      <td>10.000000</td>\n",
       "      <td>10.000000</td>\n",
       "      <td>9.000000</td>\n",
       "      <td>9.00000</td>\n",
       "      <td>1.000000</td>\n",
       "      <td>0.000000</td>\n",
       "      <td>0.000000</td>\n",
       "      <td>0.000000</td>\n",
       "      <td>0.190000</td>\n",
       "    </tr>\n",
       "    <tr>\n",
       "      <th>50%</th>\n",
       "      <td>1.980826e+07</td>\n",
       "      <td>2.019071e+13</td>\n",
       "      <td>NaN</td>\n",
       "      <td>NaN</td>\n",
       "      <td>NaN</td>\n",
       "      <td>3.151576e+07</td>\n",
       "      <td>NaN</td>\n",
       "      <td>1.000000</td>\n",
       "      <td>1.000000</td>\n",
       "      <td>40.723060</td>\n",
       "      <td>...</td>\n",
       "      <td>10.000000</td>\n",
       "      <td>10.000000</td>\n",
       "      <td>10.000000</td>\n",
       "      <td>10.000000</td>\n",
       "      <td>10.00000</td>\n",
       "      <td>1.000000</td>\n",
       "      <td>1.000000</td>\n",
       "      <td>1.000000</td>\n",
       "      <td>0.000000</td>\n",
       "      <td>0.710000</td>\n",
       "    </tr>\n",
       "    <tr>\n",
       "      <th>75%</th>\n",
       "      <td>2.939049e+07</td>\n",
       "      <td>2.019081e+13</td>\n",
       "      <td>NaN</td>\n",
       "      <td>NaN</td>\n",
       "      <td>NaN</td>\n",
       "      <td>1.079785e+08</td>\n",
       "      <td>NaN</td>\n",
       "      <td>2.000000</td>\n",
       "      <td>2.000000</td>\n",
       "      <td>40.763110</td>\n",
       "      <td>...</td>\n",
       "      <td>10.000000</td>\n",
       "      <td>10.000000</td>\n",
       "      <td>10.000000</td>\n",
       "      <td>10.000000</td>\n",
       "      <td>10.00000</td>\n",
       "      <td>2.000000</td>\n",
       "      <td>1.000000</td>\n",
       "      <td>1.000000</td>\n",
       "      <td>0.000000</td>\n",
       "      <td>2.010000</td>\n",
       "    </tr>\n",
       "    <tr>\n",
       "      <th>max</th>\n",
       "      <td>3.856808e+07</td>\n",
       "      <td>2.019091e+13</td>\n",
       "      <td>NaN</td>\n",
       "      <td>NaN</td>\n",
       "      <td>NaN</td>\n",
       "      <td>2.941850e+08</td>\n",
       "      <td>NaN</td>\n",
       "      <td>1611.000000</td>\n",
       "      <td>1611.000000</td>\n",
       "      <td>40.915300</td>\n",
       "      <td>...</td>\n",
       "      <td>10.000000</td>\n",
       "      <td>10.000000</td>\n",
       "      <td>10.000000</td>\n",
       "      <td>10.000000</td>\n",
       "      <td>10.00000</td>\n",
       "      <td>387.000000</td>\n",
       "      <td>380.000000</td>\n",
       "      <td>115.000000</td>\n",
       "      <td>23.000000</td>\n",
       "      <td>67.600000</td>\n",
       "    </tr>\n",
       "  </tbody>\n",
       "</table>\n",
       "<p>8 rows × 43 columns</p>\n",
       "</div>"
      ],
      "text/plain": [
       "                 id     scrape_id  thumbnail_url  medium_url  xl_picture_url  \\\n",
       "count  1.949370e+05  1.949370e+05            0.0         0.0             0.0   \n",
       "mean   1.920626e+07  2.019076e+13            NaN         NaN             NaN   \n",
       "std    1.112289e+07  1.148037e+08            NaN         NaN             NaN   \n",
       "min    2.539000e+03  2.019060e+13            NaN         NaN             NaN   \n",
       "25%    9.514193e+06  2.019060e+13            NaN         NaN             NaN   \n",
       "50%    1.980826e+07  2.019071e+13            NaN         NaN             NaN   \n",
       "75%    2.939049e+07  2.019081e+13            NaN         NaN             NaN   \n",
       "max    3.856808e+07  2.019091e+13            NaN         NaN             NaN   \n",
       "\n",
       "            host_id  host_acceptance_rate  host_listings_count  \\\n",
       "count  1.949370e+05                   0.0        194864.000000   \n",
       "mean   6.875024e+07                   NaN            14.931234   \n",
       "std    7.977780e+07                   NaN            88.492453   \n",
       "min    2.420000e+03                   NaN             0.000000   \n",
       "25%    7.958923e+06                   NaN             1.000000   \n",
       "50%    3.151576e+07                   NaN             1.000000   \n",
       "75%    1.079785e+08                   NaN             2.000000   \n",
       "max    2.941850e+08                   NaN          1611.000000   \n",
       "\n",
       "       host_total_listings_count       latitude  ...  \\\n",
       "count              194864.000000  194937.000000  ...   \n",
       "mean                   14.931234      40.728892  ...   \n",
       "std                    88.492453       0.054628  ...   \n",
       "min                     0.000000      40.499790  ...   \n",
       "25%                     1.000000      40.689930  ...   \n",
       "50%                     1.000000      40.723060  ...   \n",
       "75%                     2.000000      40.763110  ...   \n",
       "max                  1611.000000      40.915300  ...   \n",
       "\n",
       "       review_scores_cleanliness  review_scores_checkin  \\\n",
       "count              151066.000000          150931.000000   \n",
       "mean                    9.277025               9.747852   \n",
       "std                     1.081108               0.712790   \n",
       "min                     2.000000               2.000000   \n",
       "25%                     9.000000              10.000000   \n",
       "50%                    10.000000              10.000000   \n",
       "75%                    10.000000              10.000000   \n",
       "max                    10.000000              10.000000   \n",
       "\n",
       "       review_scores_communication  review_scores_location  \\\n",
       "count                151020.000000           150915.000000   \n",
       "mean                      9.755734                9.564642   \n",
       "std                       0.722937                0.759635   \n",
       "min                       2.000000                2.000000   \n",
       "25%                      10.000000                9.000000   \n",
       "50%                      10.000000               10.000000   \n",
       "75%                      10.000000               10.000000   \n",
       "max                      10.000000               10.000000   \n",
       "\n",
       "       review_scores_value  calculated_host_listings_count  \\\n",
       "count         150920.00000                   194937.000000   \n",
       "mean               9.39829                        7.428108   \n",
       "std                0.90775                       34.606020   \n",
       "min                2.00000                        1.000000   \n",
       "25%                9.00000                        1.000000   \n",
       "50%               10.00000                        1.000000   \n",
       "75%               10.00000                        2.000000   \n",
       "max               10.00000                      387.000000   \n",
       "\n",
       "       calculated_host_listings_count_entire_homes  \\\n",
       "count                                194937.000000   \n",
       "mean                                      5.792492   \n",
       "std                                      33.749277   \n",
       "min                                       0.000000   \n",
       "25%                                       0.000000   \n",
       "50%                                       1.000000   \n",
       "75%                                       1.000000   \n",
       "max                                     380.000000   \n",
       "\n",
       "       calculated_host_listings_count_private_rooms  \\\n",
       "count                                 194937.000000   \n",
       "mean                                       1.482797   \n",
       "std                                        5.979127   \n",
       "min                                        0.000000   \n",
       "25%                                        0.000000   \n",
       "50%                                        1.000000   \n",
       "75%                                        1.000000   \n",
       "max                                      115.000000   \n",
       "\n",
       "       calculated_host_listings_count_shared_rooms  reviews_per_month  \n",
       "count                                194937.000000      154979.000000  \n",
       "mean                                      0.114350           1.369951  \n",
       "std                                       1.016152           1.677797  \n",
       "min                                       0.000000           0.010000  \n",
       "25%                                       0.000000           0.190000  \n",
       "50%                                       0.000000           0.710000  \n",
       "75%                                       0.000000           2.010000  \n",
       "max                                      23.000000          67.600000  \n",
       "\n",
       "[8 rows x 43 columns]"
      ]
     },
     "execution_count": 4,
     "metadata": {},
     "output_type": "execute_result"
    }
   ],
   "source": [
    "df.describe()"
   ]
  },
  {
   "cell_type": "code",
   "execution_count": 5,
   "metadata": {},
   "outputs": [
    {
     "data": {
      "text/plain": [
       "(194937, 106)"
      ]
     },
     "execution_count": 5,
     "metadata": {},
     "output_type": "execute_result"
    }
   ],
   "source": [
    "df.shape"
   ]
  },
  {
   "cell_type": "code",
   "execution_count": 6,
   "metadata": {},
   "outputs": [
    {
     "data": {
      "text/plain": [
       "(81233, 21)"
      ]
     },
     "execution_count": 6,
     "metadata": {},
     "output_type": "execute_result"
    }
   ],
   "source": [
    "# Choose the metrics that correlated to the price. \n",
    "df_cleaned = df[[\"id\", \"summary\",\"house_rules\", \"host_response_time\", \"host_response_rate\", \"neighbourhood_group_cleansed\", \"room_type\", \"accommodates\", \"bathrooms\", \"bedrooms\", \"beds\", \"price\", \"security_deposit\", \"cleaning_fee\", \"guests_included\", \"extra_people\", \"availability_365\", \"number_of_reviews\", \"review_scores_rating\", \"cancellation_policy\", \"reviews_per_month\"]]\n",
    "df_cleaned['summary']=df_cleaned['summary'].fillna('N')\n",
    "df_cleaned['house_rules'] = df_cleaned['house_rules'].fillna('N')\n",
    "df_cleaned.dropna(inplace=True)\n",
    "df_cleaned.shape"
   ]
  },
  {
   "cell_type": "code",
   "execution_count": 7,
   "metadata": {},
   "outputs": [],
   "source": [
    "#df_cleaned.head()"
   ]
  },
  {
   "cell_type": "code",
   "execution_count": 8,
   "metadata": {},
   "outputs": [
    {
     "data": {
      "text/plain": [
       "(370, 22)"
      ]
     },
     "execution_count": 8,
     "metadata": {},
     "output_type": "execute_result"
    }
   ],
   "source": [
    "# Check the Deplicated data\n",
    "df_cleaned['CheckDup'] = df_cleaned.duplicated(subset=None, keep='first')\n",
    "df_cleaned[df_cleaned['CheckDup']==True].shape"
   ]
  },
  {
   "cell_type": "code",
   "execution_count": 9,
   "metadata": {},
   "outputs": [],
   "source": [
    "#drop the duplicated data\n",
    "df_cleaned.drop_duplicates(keep='first',inplace=True)"
   ]
  },
  {
   "cell_type": "code",
   "execution_count": 10,
   "metadata": {},
   "outputs": [
    {
     "data": {
      "text/html": [
       "<div>\n",
       "<style scoped>\n",
       "    .dataframe tbody tr th:only-of-type {\n",
       "        vertical-align: middle;\n",
       "    }\n",
       "\n",
       "    .dataframe tbody tr th {\n",
       "        vertical-align: top;\n",
       "    }\n",
       "\n",
       "    .dataframe thead th {\n",
       "        text-align: right;\n",
       "    }\n",
       "</style>\n",
       "<table border=\"1\" class=\"dataframe\">\n",
       "  <thead>\n",
       "    <tr style=\"text-align: right;\">\n",
       "      <th></th>\n",
       "      <th>id</th>\n",
       "      <th>summary</th>\n",
       "      <th>house_rules</th>\n",
       "      <th>host_response_time</th>\n",
       "      <th>host_response_rate</th>\n",
       "      <th>neighbourhood_group_cleansed</th>\n",
       "      <th>room_type</th>\n",
       "      <th>accommodates</th>\n",
       "      <th>bathrooms</th>\n",
       "      <th>bedrooms</th>\n",
       "      <th>...</th>\n",
       "      <th>security_deposit</th>\n",
       "      <th>cleaning_fee</th>\n",
       "      <th>guests_included</th>\n",
       "      <th>extra_people</th>\n",
       "      <th>availability_365</th>\n",
       "      <th>number_of_reviews</th>\n",
       "      <th>review_scores_rating</th>\n",
       "      <th>cancellation_policy</th>\n",
       "      <th>reviews_per_month</th>\n",
       "      <th>CheckDup</th>\n",
       "    </tr>\n",
       "  </thead>\n",
       "  <tbody>\n",
       "    <tr>\n",
       "      <th>0</th>\n",
       "      <td>2595</td>\n",
       "      <td>Find your romantic getaway to this beautiful, ...</td>\n",
       "      <td>Make yourself at home, respect the space and t...</td>\n",
       "      <td>within a few hours</td>\n",
       "      <td>90%</td>\n",
       "      <td>Manhattan</td>\n",
       "      <td>Entire home/apt</td>\n",
       "      <td>2</td>\n",
       "      <td>1.0</td>\n",
       "      <td>0.0</td>\n",
       "      <td>...</td>\n",
       "      <td>$350.00</td>\n",
       "      <td>$100.00</td>\n",
       "      <td>2</td>\n",
       "      <td>$0.00</td>\n",
       "      <td>288</td>\n",
       "      <td>46</td>\n",
       "      <td>95.0</td>\n",
       "      <td>strict_14_with_grace_period</td>\n",
       "      <td>0.39</td>\n",
       "      <td>False</td>\n",
       "    </tr>\n",
       "    <tr>\n",
       "      <th>4</th>\n",
       "      <td>5099</td>\n",
       "      <td>My large 1 bedroom apartment is true New York ...</td>\n",
       "      <td>• Check-in time is 2PM. • Check-out time is 12...</td>\n",
       "      <td>within a few hours</td>\n",
       "      <td>90%</td>\n",
       "      <td>Manhattan</td>\n",
       "      <td>Entire home/apt</td>\n",
       "      <td>2</td>\n",
       "      <td>1.0</td>\n",
       "      <td>1.0</td>\n",
       "      <td>...</td>\n",
       "      <td>$300.00</td>\n",
       "      <td>$125.00</td>\n",
       "      <td>2</td>\n",
       "      <td>$100.00</td>\n",
       "      <td>127</td>\n",
       "      <td>75</td>\n",
       "      <td>89.0</td>\n",
       "      <td>strict_14_with_grace_period</td>\n",
       "      <td>0.60</td>\n",
       "      <td>False</td>\n",
       "    </tr>\n",
       "    <tr>\n",
       "      <th>8</th>\n",
       "      <td>5222</td>\n",
       "      <td>N</td>\n",
       "      <td>Please let me know if you will be staying with...</td>\n",
       "      <td>within a day</td>\n",
       "      <td>100%</td>\n",
       "      <td>Manhattan</td>\n",
       "      <td>Entire home/apt</td>\n",
       "      <td>2</td>\n",
       "      <td>1.0</td>\n",
       "      <td>1.0</td>\n",
       "      <td>...</td>\n",
       "      <td>$500.00</td>\n",
       "      <td>$75.00</td>\n",
       "      <td>2</td>\n",
       "      <td>$15.00</td>\n",
       "      <td>322</td>\n",
       "      <td>94</td>\n",
       "      <td>95.0</td>\n",
       "      <td>strict_14_with_grace_period</td>\n",
       "      <td>0.74</td>\n",
       "      <td>False</td>\n",
       "    </tr>\n",
       "    <tr>\n",
       "      <th>9</th>\n",
       "      <td>5238</td>\n",
       "      <td>Live like a New Yorker instead of a stuffy, ti...</td>\n",
       "      <td>No smoking in apartment. No Pets allowed.  Ple...</td>\n",
       "      <td>within a few hours</td>\n",
       "      <td>100%</td>\n",
       "      <td>Manhattan</td>\n",
       "      <td>Entire home/apt</td>\n",
       "      <td>3</td>\n",
       "      <td>1.0</td>\n",
       "      <td>1.0</td>\n",
       "      <td>...</td>\n",
       "      <td>$0.00</td>\n",
       "      <td>$40.00</td>\n",
       "      <td>2</td>\n",
       "      <td>$10.00</td>\n",
       "      <td>0</td>\n",
       "      <td>161</td>\n",
       "      <td>94.0</td>\n",
       "      <td>strict_14_with_grace_period</td>\n",
       "      <td>1.33</td>\n",
       "      <td>False</td>\n",
       "    </tr>\n",
       "    <tr>\n",
       "      <th>10</th>\n",
       "      <td>5295</td>\n",
       "      <td>N</td>\n",
       "      <td>Dear Guests, Welcome to my apartment and I hop...</td>\n",
       "      <td>within a day</td>\n",
       "      <td>100%</td>\n",
       "      <td>Manhattan</td>\n",
       "      <td>Entire home/apt</td>\n",
       "      <td>2</td>\n",
       "      <td>1.0</td>\n",
       "      <td>1.0</td>\n",
       "      <td>...</td>\n",
       "      <td>$450.00</td>\n",
       "      <td>$75.00</td>\n",
       "      <td>1</td>\n",
       "      <td>$0.00</td>\n",
       "      <td>1</td>\n",
       "      <td>53</td>\n",
       "      <td>93.0</td>\n",
       "      <td>strict_14_with_grace_period</td>\n",
       "      <td>0.42</td>\n",
       "      <td>False</td>\n",
       "    </tr>\n",
       "  </tbody>\n",
       "</table>\n",
       "<p>5 rows × 22 columns</p>\n",
       "</div>"
      ],
      "text/plain": [
       "      id                                            summary  \\\n",
       "0   2595  Find your romantic getaway to this beautiful, ...   \n",
       "4   5099  My large 1 bedroom apartment is true New York ...   \n",
       "8   5222                                                  N   \n",
       "9   5238  Live like a New Yorker instead of a stuffy, ti...   \n",
       "10  5295                                                  N   \n",
       "\n",
       "                                          house_rules  host_response_time  \\\n",
       "0   Make yourself at home, respect the space and t...  within a few hours   \n",
       "4   • Check-in time is 2PM. • Check-out time is 12...  within a few hours   \n",
       "8   Please let me know if you will be staying with...        within a day   \n",
       "9   No smoking in apartment. No Pets allowed.  Ple...  within a few hours   \n",
       "10  Dear Guests, Welcome to my apartment and I hop...        within a day   \n",
       "\n",
       "   host_response_rate neighbourhood_group_cleansed        room_type  \\\n",
       "0                 90%                    Manhattan  Entire home/apt   \n",
       "4                 90%                    Manhattan  Entire home/apt   \n",
       "8                100%                    Manhattan  Entire home/apt   \n",
       "9                100%                    Manhattan  Entire home/apt   \n",
       "10               100%                    Manhattan  Entire home/apt   \n",
       "\n",
       "    accommodates  bathrooms  bedrooms  ...  security_deposit cleaning_fee  \\\n",
       "0              2        1.0       0.0  ...           $350.00      $100.00   \n",
       "4              2        1.0       1.0  ...           $300.00      $125.00   \n",
       "8              2        1.0       1.0  ...           $500.00       $75.00   \n",
       "9              3        1.0       1.0  ...             $0.00       $40.00   \n",
       "10             2        1.0       1.0  ...           $450.00       $75.00   \n",
       "\n",
       "   guests_included extra_people  availability_365 number_of_reviews  \\\n",
       "0                2        $0.00               288                46   \n",
       "4                2      $100.00               127                75   \n",
       "8                2       $15.00               322                94   \n",
       "9                2       $10.00                 0               161   \n",
       "10               1        $0.00                 1                53   \n",
       "\n",
       "    review_scores_rating          cancellation_policy  reviews_per_month  \\\n",
       "0                   95.0  strict_14_with_grace_period               0.39   \n",
       "4                   89.0  strict_14_with_grace_period               0.60   \n",
       "8                   95.0  strict_14_with_grace_period               0.74   \n",
       "9                   94.0  strict_14_with_grace_period               1.33   \n",
       "10                  93.0  strict_14_with_grace_period               0.42   \n",
       "\n",
       "   CheckDup  \n",
       "0     False  \n",
       "4     False  \n",
       "8     False  \n",
       "9     False  \n",
       "10    False  \n",
       "\n",
       "[5 rows x 22 columns]"
      ]
     },
     "execution_count": 10,
     "metadata": {},
     "output_type": "execute_result"
    }
   ],
   "source": [
    "df_final = df_cleaned\n",
    "df_final.head()"
   ]
  },
  {
   "cell_type": "code",
   "execution_count": 49,
   "metadata": {},
   "outputs": [],
   "source": [
    "# writing data to local for visulization\n",
    "df_final.to_csv(\"visu_data.csv\", sep = \",\", index = False)"
   ]
  },
  {
   "cell_type": "markdown",
   "metadata": {},
   "source": [
    "# Transform variables to construct feature"
   ]
  },
  {
   "cell_type": "markdown",
   "metadata": {},
   "source": [
    " Convert Summary and House_rules into length "
   ]
  },
  {
   "cell_type": "code",
   "execution_count": 12,
   "metadata": {
    "scrolled": true
   },
   "outputs": [],
   "source": [
    "#convert summary/hourserules to len of summary -> numeric dat\n",
    "df_final['summary_len'] = df_final['summary'].str.split().str.len()\n",
    "df_final['houserules_len'] = df_final['house_rules'].str.split().str.len()"
   ]
  },
  {
   "cell_type": "code",
   "execution_count": 13,
   "metadata": {},
   "outputs": [
    {
     "data": {
      "text/plain": [
       "array(['within a few hours', 'within a day', 'within an hour',\n",
       "       'a few days or more'], dtype=object)"
      ]
     },
     "execution_count": 13,
     "metadata": {},
     "output_type": "execute_result"
    }
   ],
   "source": [
    "df_final[\"host_response_time\"].unique()"
   ]
  },
  {
   "cell_type": "code",
   "execution_count": 14,
   "metadata": {},
   "outputs": [],
   "source": [
    "# df_final['a few hours'] = (df_final['host_response_time'] == 'within a few hours')\n",
    "# df_final['a day'] = (df_final['host_response_time'] == 'within a day')\n",
    "# df_final['an hour'] = (df_final['host_response_time'] == 'within an hour')\n",
    "# df_final['a few days or more'] = (df_final['host_response_time'] == 'a few days or more')\n",
    "\n",
    "# df_final[['a few hours','a day','an hour','a few days or more']] = df_final[['a few hours','a day','an hour','a few days or more']].astype(int)"
   ]
  },
  {
   "cell_type": "code",
   "execution_count": 15,
   "metadata": {},
   "outputs": [],
   "source": [
    "#df_final = df_final.drop(['a few hours'], axis=1)"
   ]
  },
  {
   "cell_type": "code",
   "execution_count": 16,
   "metadata": {},
   "outputs": [],
   "source": [
    "df_final = pd.get_dummies(df_final,columns=['host_response_time'])"
   ]
  },
  {
   "cell_type": "code",
   "execution_count": 17,
   "metadata": {},
   "outputs": [],
   "source": [
    "df_final = df_final.rename({'host_response_time_within a few hours':'a few hours','host_response_time_within a day':'a day','host_response_time_within an hour':'an hour','host_response_time_a few days or more':'a few days or more'},axis = 1) "
   ]
  },
  {
   "cell_type": "code",
   "execution_count": 18,
   "metadata": {},
   "outputs": [],
   "source": [
    "df_final[['a few hours','a day','an hour','a few days or more']] = df_final[['a few hours','a day','an hour','a few days or more']].astype(int)"
   ]
  },
  {
   "cell_type": "code",
   "execution_count": 19,
   "metadata": {},
   "outputs": [],
   "source": [
    "#neighbourhood_group_cleansed\n",
    "df_final['Manhattan'] = (df_final['neighbourhood_group_cleansed'] == 'Manhattan')\n",
    "df_final['Brooklyn'] = (df_final['neighbourhood_group_cleansed'] == 'Brooklyn')\n",
    "df_final['Queens'] = (df_final['neighbourhood_group_cleansed'] == 'Queens')\n",
    "df_final['Bronx'] = (df_final['neighbourhood_group_cleansed'] == 'Bronx')\n",
    "df_final['Staten_Island'] = (df_final['neighbourhood_group_cleansed'] == 'Staten Island')\n",
    "\n",
    "df_final[['Manhattan','Brooklyn','Queens','Bronx','Staten_Island']] = df_final[['Manhattan','Brooklyn','Queens','Bronx','Staten_Island']].astype(int)\n",
    "#df_final['Others'] = df_final['Bronx'] + df_final['Staten_Island']"
   ]
  },
  {
   "cell_type": "code",
   "execution_count": 20,
   "metadata": {},
   "outputs": [],
   "source": [
    "#df_final = df_final.drop(['Others'], axis=1)"
   ]
  },
  {
   "cell_type": "code",
   "execution_count": 21,
   "metadata": {},
   "outputs": [],
   "source": [
    "#room type\n",
    "df_final['Entire home'] = (df_final['room_type'] == 'Entire home/apt')\n",
    "df_final['Private_room'] = (df_final['room_type'] == 'Private room')\n",
    "df_final['Shared_room'] = (df_final['room_type'] == 'Shared room')\n",
    "\n",
    "df_final[['Entire home','Private_room','Shared_room']] = df_final[['Entire home','Private_room','Shared_room']].astype(int)"
   ]
  },
  {
   "cell_type": "code",
   "execution_count": 22,
   "metadata": {},
   "outputs": [],
   "source": [
    "# cancellation policy\n",
    "df_final['flexible'] = (df_final['cancellation_policy'] == 'flexible')\n",
    "df_final['moderate'] = (df_final['cancellation_policy'] == 'moderate')\n",
    "df_final['strict_14'] = (df_final['cancellation_policy'] == 'strict_14_with_grace_period')\n",
    "df_final['strict_30'] = (df_final['cancellation_policy'] == 'super_strict_30')\n",
    "df_final['strict'] = (df_final['cancellation_policy'] == 'strict')\n",
    "\n",
    "df_final[['flexible','moderate','strict_14','strict_30','strict']] = df_final[['flexible','moderate','strict_14','strict_30','strict']].astype(int)\n",
    "#df_final.head()"
   ]
  },
  {
   "cell_type": "code",
   "execution_count": 23,
   "metadata": {},
   "outputs": [
    {
     "name": "stdout",
     "output_type": "stream",
     "text": [
      "<class 'pandas.core.frame.DataFrame'>\n",
      "Int64Index: 81185 entries, 0 to 48091\n",
      "Data columns (total 40 columns):\n",
      " #   Column                        Non-Null Count  Dtype  \n",
      "---  ------                        --------------  -----  \n",
      " 0   id                            81185 non-null  int64  \n",
      " 1   summary                       81185 non-null  object \n",
      " 2   house_rules                   81185 non-null  object \n",
      " 3   host_response_rate            81185 non-null  object \n",
      " 4   neighbourhood_group_cleansed  81185 non-null  object \n",
      " 5   room_type                     81185 non-null  object \n",
      " 6   accommodates                  81185 non-null  int64  \n",
      " 7   bathrooms                     81185 non-null  float64\n",
      " 8   bedrooms                      81185 non-null  float64\n",
      " 9   beds                          81185 non-null  float64\n",
      " 10  price                         81185 non-null  object \n",
      " 11  security_deposit              81185 non-null  object \n",
      " 12  cleaning_fee                  81185 non-null  object \n",
      " 13  guests_included               81185 non-null  int64  \n",
      " 14  extra_people                  81185 non-null  object \n",
      " 15  availability_365              81185 non-null  int64  \n",
      " 16  number_of_reviews             81185 non-null  int64  \n",
      " 17  review_scores_rating          81185 non-null  float64\n",
      " 18  cancellation_policy           81185 non-null  object \n",
      " 19  reviews_per_month             81185 non-null  float64\n",
      " 20  CheckDup                      81185 non-null  bool   \n",
      " 21  summary_len                   81185 non-null  int64  \n",
      " 22  houserules_len                81185 non-null  int64  \n",
      " 23  a few days or more            81185 non-null  int64  \n",
      " 24  a day                         81185 non-null  int64  \n",
      " 25  a few hours                   81185 non-null  int64  \n",
      " 26  an hour                       81185 non-null  int64  \n",
      " 27  Manhattan                     81185 non-null  int64  \n",
      " 28  Brooklyn                      81185 non-null  int64  \n",
      " 29  Queens                        81185 non-null  int64  \n",
      " 30  Bronx                         81185 non-null  int64  \n",
      " 31  Staten_Island                 81185 non-null  int64  \n",
      " 32  Entire home                   81185 non-null  int64  \n",
      " 33  Private_room                  81185 non-null  int64  \n",
      " 34  Shared_room                   81185 non-null  int64  \n",
      " 35  flexible                      81185 non-null  int64  \n",
      " 36  moderate                      81185 non-null  int64  \n",
      " 37  strict_14                     81185 non-null  int64  \n",
      " 38  strict_30                     81185 non-null  int64  \n",
      " 39  strict                        81185 non-null  int64  \n",
      "dtypes: bool(1), float64(5), int64(24), object(10)\n",
      "memory usage: 24.9+ MB\n"
     ]
    }
   ],
   "source": [
    "df_final.info()"
   ]
  },
  {
   "cell_type": "code",
   "execution_count": 24,
   "metadata": {},
   "outputs": [],
   "source": [
    "df_done = df_final.drop(columns = ['summary','house_rules','CheckDup','strict','neighbourhood_group_cleansed','room_type','cancellation_policy'])\n",
    "#df_done.head()"
   ]
  },
  {
   "cell_type": "code",
   "execution_count": 25,
   "metadata": {},
   "outputs": [
    {
     "data": {
      "text/plain": [
       "id                        int64\n",
       "host_response_rate       object\n",
       "accommodates              int64\n",
       "bathrooms               float64\n",
       "bedrooms                float64\n",
       "beds                    float64\n",
       "price                    object\n",
       "security_deposit         object\n",
       "cleaning_fee             object\n",
       "guests_included           int64\n",
       "extra_people             object\n",
       "availability_365          int64\n",
       "number_of_reviews         int64\n",
       "review_scores_rating    float64\n",
       "reviews_per_month       float64\n",
       "summary_len               int64\n",
       "houserules_len            int64\n",
       "a few days or more        int64\n",
       "a day                     int64\n",
       "a few hours               int64\n",
       "an hour                   int64\n",
       "Manhattan                 int64\n",
       "Brooklyn                  int64\n",
       "Queens                    int64\n",
       "Bronx                     int64\n",
       "Staten_Island             int64\n",
       "Entire home               int64\n",
       "Private_room              int64\n",
       "Shared_room               int64\n",
       "flexible                  int64\n",
       "moderate                  int64\n",
       "strict_14                 int64\n",
       "strict_30                 int64\n",
       "dtype: object"
      ]
     },
     "execution_count": 25,
     "metadata": {},
     "output_type": "execute_result"
    }
   ],
   "source": [
    "df_done.dtypes"
   ]
  },
  {
   "cell_type": "code",
   "execution_count": 26,
   "metadata": {},
   "outputs": [
    {
     "data": {
      "text/plain": [
       "0     225.0\n",
       "4     200.0\n",
       "8     116.0\n",
       "9     150.0\n",
       "10    135.0\n",
       "Name: price, dtype: float64"
      ]
     },
     "execution_count": 26,
     "metadata": {},
     "output_type": "execute_result"
    }
   ],
   "source": [
    "# remove$ ->num\n",
    "df_done['price']=df_done['price'].str.replace('$','')\n",
    "df_done['price']=df_done['price'].str.replace(',','')\n",
    "df_done['price'] = df_done['price'].astype(float)\n",
    "df_done['price'].head()"
   ]
  },
  {
   "cell_type": "code",
   "execution_count": 27,
   "metadata": {},
   "outputs": [
    {
     "data": {
      "text/plain": [
       "0     0.9\n",
       "4     0.9\n",
       "8     1.0\n",
       "9     1.0\n",
       "10    1.0\n",
       "Name: host_response_rate, dtype: float64"
      ]
     },
     "execution_count": 27,
     "metadata": {},
     "output_type": "execute_result"
    }
   ],
   "source": [
    "#percentage -> num\n",
    "df_done['host_response_rate']=df_done['host_response_rate'].str.replace('%','')\n",
    "df_done['host_response_rate'] = df_done['host_response_rate'].astype(float)\n",
    "df_done['host_response_rate'] = df_done['host_response_rate']/100\n",
    "df_done['host_response_rate'].head()"
   ]
  },
  {
   "cell_type": "code",
   "execution_count": 28,
   "metadata": {},
   "outputs": [
    {
     "data": {
      "text/plain": [
       "0     350.0\n",
       "4     300.0\n",
       "8     500.0\n",
       "9       0.0\n",
       "10    450.0\n",
       "Name: security_deposit, dtype: object"
      ]
     },
     "execution_count": 28,
     "metadata": {},
     "output_type": "execute_result"
    }
   ],
   "source": [
    "#remove$\n",
    "df_done['security_deposit']=df_done['security_deposit'].str.replace('$','')\n",
    "df_done['security_deposit']=df_done['security_deposit'].str.replace(',','')\n",
    "df_done['security_deposit'].head()"
   ]
  },
  {
   "cell_type": "code",
   "execution_count": 29,
   "metadata": {},
   "outputs": [
    {
     "data": {
      "text/plain": [
       "0     100.0\n",
       "4     125.0\n",
       "8      75.0\n",
       "9      40.0\n",
       "10     75.0\n",
       "Name: cleaning_fee, dtype: object"
      ]
     },
     "execution_count": 29,
     "metadata": {},
     "output_type": "execute_result"
    }
   ],
   "source": [
    "#remove$\n",
    "df_done['cleaning_fee']=df_done['cleaning_fee'].str.replace('$','')\n",
    "df_done['cleaning_fee']=df_done['cleaning_fee'].str.replace(',','')\n",
    "df_done['cleaning_fee'].head()"
   ]
  },
  {
   "cell_type": "code",
   "execution_count": 30,
   "metadata": {},
   "outputs": [
    {
     "data": {
      "text/plain": [
       "0       0.0\n",
       "4     100.0\n",
       "8      15.0\n",
       "9      10.0\n",
       "10      0.0\n",
       "Name: extra_people, dtype: object"
      ]
     },
     "execution_count": 30,
     "metadata": {},
     "output_type": "execute_result"
    }
   ],
   "source": [
    "#remove$\n",
    "df_done['extra_people']=df_done['extra_people'].str.replace('$','')\n",
    "df_done['extra_people']=df_done['extra_people'].str.replace(',','')\n",
    "df_done['extra_people'].head()"
   ]
  },
  {
   "cell_type": "code",
   "execution_count": 31,
   "metadata": {
    "scrolled": true
   },
   "outputs": [
    {
     "data": {
      "text/html": [
       "<div>\n",
       "<style scoped>\n",
       "    .dataframe tbody tr th:only-of-type {\n",
       "        vertical-align: middle;\n",
       "    }\n",
       "\n",
       "    .dataframe tbody tr th {\n",
       "        vertical-align: top;\n",
       "    }\n",
       "\n",
       "    .dataframe thead th {\n",
       "        text-align: right;\n",
       "    }\n",
       "</style>\n",
       "<table border=\"1\" class=\"dataframe\">\n",
       "  <thead>\n",
       "    <tr style=\"text-align: right;\">\n",
       "      <th></th>\n",
       "      <th>id</th>\n",
       "      <th>host_response_rate</th>\n",
       "      <th>accommodates</th>\n",
       "      <th>bathrooms</th>\n",
       "      <th>bedrooms</th>\n",
       "      <th>beds</th>\n",
       "      <th>price</th>\n",
       "      <th>security_deposit</th>\n",
       "      <th>cleaning_fee</th>\n",
       "      <th>guests_included</th>\n",
       "      <th>...</th>\n",
       "      <th>Queens</th>\n",
       "      <th>Bronx</th>\n",
       "      <th>Staten_Island</th>\n",
       "      <th>Entire home</th>\n",
       "      <th>Private_room</th>\n",
       "      <th>Shared_room</th>\n",
       "      <th>flexible</th>\n",
       "      <th>moderate</th>\n",
       "      <th>strict_14</th>\n",
       "      <th>strict_30</th>\n",
       "    </tr>\n",
       "  </thead>\n",
       "  <tbody>\n",
       "    <tr>\n",
       "      <th>0</th>\n",
       "      <td>2595</td>\n",
       "      <td>0.9</td>\n",
       "      <td>2</td>\n",
       "      <td>1.0</td>\n",
       "      <td>0.0</td>\n",
       "      <td>1.0</td>\n",
       "      <td>225.0</td>\n",
       "      <td>350.0</td>\n",
       "      <td>100.0</td>\n",
       "      <td>2</td>\n",
       "      <td>...</td>\n",
       "      <td>0</td>\n",
       "      <td>0</td>\n",
       "      <td>0</td>\n",
       "      <td>1</td>\n",
       "      <td>0</td>\n",
       "      <td>0</td>\n",
       "      <td>0</td>\n",
       "      <td>0</td>\n",
       "      <td>1</td>\n",
       "      <td>0</td>\n",
       "    </tr>\n",
       "    <tr>\n",
       "      <th>4</th>\n",
       "      <td>5099</td>\n",
       "      <td>0.9</td>\n",
       "      <td>2</td>\n",
       "      <td>1.0</td>\n",
       "      <td>1.0</td>\n",
       "      <td>1.0</td>\n",
       "      <td>200.0</td>\n",
       "      <td>300.0</td>\n",
       "      <td>125.0</td>\n",
       "      <td>2</td>\n",
       "      <td>...</td>\n",
       "      <td>0</td>\n",
       "      <td>0</td>\n",
       "      <td>0</td>\n",
       "      <td>1</td>\n",
       "      <td>0</td>\n",
       "      <td>0</td>\n",
       "      <td>0</td>\n",
       "      <td>0</td>\n",
       "      <td>1</td>\n",
       "      <td>0</td>\n",
       "    </tr>\n",
       "    <tr>\n",
       "      <th>8</th>\n",
       "      <td>5222</td>\n",
       "      <td>1.0</td>\n",
       "      <td>2</td>\n",
       "      <td>1.0</td>\n",
       "      <td>1.0</td>\n",
       "      <td>1.0</td>\n",
       "      <td>116.0</td>\n",
       "      <td>500.0</td>\n",
       "      <td>75.0</td>\n",
       "      <td>2</td>\n",
       "      <td>...</td>\n",
       "      <td>0</td>\n",
       "      <td>0</td>\n",
       "      <td>0</td>\n",
       "      <td>1</td>\n",
       "      <td>0</td>\n",
       "      <td>0</td>\n",
       "      <td>0</td>\n",
       "      <td>0</td>\n",
       "      <td>1</td>\n",
       "      <td>0</td>\n",
       "    </tr>\n",
       "    <tr>\n",
       "      <th>9</th>\n",
       "      <td>5238</td>\n",
       "      <td>1.0</td>\n",
       "      <td>3</td>\n",
       "      <td>1.0</td>\n",
       "      <td>1.0</td>\n",
       "      <td>2.0</td>\n",
       "      <td>150.0</td>\n",
       "      <td>0.0</td>\n",
       "      <td>40.0</td>\n",
       "      <td>2</td>\n",
       "      <td>...</td>\n",
       "      <td>0</td>\n",
       "      <td>0</td>\n",
       "      <td>0</td>\n",
       "      <td>1</td>\n",
       "      <td>0</td>\n",
       "      <td>0</td>\n",
       "      <td>0</td>\n",
       "      <td>0</td>\n",
       "      <td>1</td>\n",
       "      <td>0</td>\n",
       "    </tr>\n",
       "    <tr>\n",
       "      <th>10</th>\n",
       "      <td>5295</td>\n",
       "      <td>1.0</td>\n",
       "      <td>2</td>\n",
       "      <td>1.0</td>\n",
       "      <td>1.0</td>\n",
       "      <td>1.0</td>\n",
       "      <td>135.0</td>\n",
       "      <td>450.0</td>\n",
       "      <td>75.0</td>\n",
       "      <td>1</td>\n",
       "      <td>...</td>\n",
       "      <td>0</td>\n",
       "      <td>0</td>\n",
       "      <td>0</td>\n",
       "      <td>1</td>\n",
       "      <td>0</td>\n",
       "      <td>0</td>\n",
       "      <td>0</td>\n",
       "      <td>0</td>\n",
       "      <td>1</td>\n",
       "      <td>0</td>\n",
       "    </tr>\n",
       "  </tbody>\n",
       "</table>\n",
       "<p>5 rows × 33 columns</p>\n",
       "</div>"
      ],
      "text/plain": [
       "      id  host_response_rate  accommodates  bathrooms  bedrooms  beds  price  \\\n",
       "0   2595                 0.9             2        1.0       0.0   1.0  225.0   \n",
       "4   5099                 0.9             2        1.0       1.0   1.0  200.0   \n",
       "8   5222                 1.0             2        1.0       1.0   1.0  116.0   \n",
       "9   5238                 1.0             3        1.0       1.0   2.0  150.0   \n",
       "10  5295                 1.0             2        1.0       1.0   1.0  135.0   \n",
       "\n",
       "   security_deposit cleaning_fee  guests_included  ... Queens  Bronx  \\\n",
       "0             350.0        100.0                2  ...      0      0   \n",
       "4             300.0        125.0                2  ...      0      0   \n",
       "8             500.0         75.0                2  ...      0      0   \n",
       "9               0.0         40.0                2  ...      0      0   \n",
       "10            450.0         75.0                1  ...      0      0   \n",
       "\n",
       "    Staten_Island  Entire home  Private_room  Shared_room  flexible  moderate  \\\n",
       "0               0            1             0            0         0         0   \n",
       "4               0            1             0            0         0         0   \n",
       "8               0            1             0            0         0         0   \n",
       "9               0            1             0            0         0         0   \n",
       "10              0            1             0            0         0         0   \n",
       "\n",
       "    strict_14  strict_30  \n",
       "0           1          0  \n",
       "4           1          0  \n",
       "8           1          0  \n",
       "9           1          0  \n",
       "10          1          0  \n",
       "\n",
       "[5 rows x 33 columns]"
      ]
     },
     "execution_count": 31,
     "metadata": {},
     "output_type": "execute_result"
    }
   ],
   "source": [
    "df_done.head()"
   ]
  },
  {
   "cell_type": "markdown",
   "metadata": {},
   "source": [
    "# Modeling\n",
    "Z score, detect outliner, Feature selection"
   ]
  },
  {
   "cell_type": "code",
   "execution_count": 32,
   "metadata": {},
   "outputs": [
    {
     "name": "stdout",
     "output_type": "stream",
     "text": [
      "<class 'pandas.core.frame.DataFrame'>\n",
      "Int64Index: 81185 entries, 0 to 48091\n",
      "Data columns (total 24 columns):\n",
      " #   Column                Non-Null Count  Dtype  \n",
      "---  ------                --------------  -----  \n",
      " 0   host_response_rate    81185 non-null  float64\n",
      " 1   accommodates          81185 non-null  int64  \n",
      " 2   bathrooms             81185 non-null  float64\n",
      " 3   bedrooms              81185 non-null  float64\n",
      " 4   beds                  81185 non-null  float64\n",
      " 5   price                 81185 non-null  float64\n",
      " 6   security_deposit      81185 non-null  object \n",
      " 7   cleaning_fee          81185 non-null  object \n",
      " 8   guests_included       81185 non-null  int64  \n",
      " 9   extra_people          81185 non-null  object \n",
      " 10  availability_365      81185 non-null  int64  \n",
      " 11  number_of_reviews     81185 non-null  int64  \n",
      " 12  review_scores_rating  81185 non-null  float64\n",
      " 13  reviews_per_month     81185 non-null  float64\n",
      " 14  summary_len           81185 non-null  int64  \n",
      " 15  houserules_len        81185 non-null  int64  \n",
      " 16  Manhattan             81185 non-null  int64  \n",
      " 17  Brooklyn              81185 non-null  int64  \n",
      " 18  Queens                81185 non-null  int64  \n",
      " 19  Bronx                 81185 non-null  int64  \n",
      " 20  Staten_Island         81185 non-null  int64  \n",
      " 21  Entire home           81185 non-null  int64  \n",
      " 22  Private_room          81185 non-null  int64  \n",
      " 23  Shared_room           81185 non-null  int64  \n",
      "dtypes: float64(7), int64(14), object(3)\n",
      "memory usage: 15.5+ MB\n"
     ]
    }
   ],
   "source": [
    "# drop columns\n",
    "df_done1 = df_done.drop(columns = ['id', 'a few hours', 'a day', 'an hour', 'a few days or more','flexible', 'moderate', 'strict_14', 'strict_30'])\n",
    "df_done1.info()"
   ]
  },
  {
   "cell_type": "code",
   "execution_count": 33,
   "metadata": {},
   "outputs": [],
   "source": [
    "list(df_done1.columns)\n",
    "df_done1.columns = ['host_response_rate',\n",
    " 'accommodates',\n",
    " 'bathrooms',\n",
    " 'bedrooms',\n",
    " 'beds',\n",
    " 'price',\n",
    " 'security_deposit',\n",
    " 'cleaning_fee',\n",
    " 'guests_included',\n",
    " 'extra_people',\n",
    " 'availability_365',\n",
    " 'number_of_reviews',\n",
    " 'review_scores_rating',\n",
    " 'reviews_per_month',\n",
    " 'summary_len',\n",
    " 'houserules_len',\n",
    " 'Manhattan',\n",
    " 'Brooklyn',\n",
    " 'Queens',\n",
    " 'Bronx',\n",
    " 'Staten_Island',\n",
    " 'Entire_home',\n",
    " 'Private_room',\n",
    " 'Shared_room']"
   ]
  },
  {
   "cell_type": "code",
   "execution_count": 34,
   "metadata": {},
   "outputs": [],
   "source": [
    "from sklearn.model_selection import train_test_split\n",
    "X = df_done1.drop('price',axis=1).values\n",
    "y = df_done1['price'].values\n",
    "x_train, x_test, y_train, y_test = train_test_split(X, y, test_size = 0.20, random_state = 0)"
   ]
  },
  {
   "cell_type": "code",
   "execution_count": 35,
   "metadata": {},
   "outputs": [],
   "source": [
    "import numpy as np\n",
    "from sklearn.feature_selection import SelectKBest\n",
    "from sklearn.feature_selection import chi2"
   ]
  },
  {
   "cell_type": "code",
   "execution_count": 36,
   "metadata": {},
   "outputs": [],
   "source": [
    "#apply SelectKBest class to extract top 10 best features\n",
    "bestfeatures = SelectKBest(score_func=chi2, k=10)\n",
    "fit = bestfeatures.fit(X,y)\n",
    "dfscores = pd.DataFrame(fit.scores_)\n",
    "dfcolumns = pd.DataFrame(df_done1.columns)"
   ]
  },
  {
   "cell_type": "markdown",
   "metadata": {},
   "source": [
    "### Feature engineering"
   ]
  },
  {
   "cell_type": "code",
   "execution_count": 37,
   "metadata": {},
   "outputs": [
    {
     "name": "stdout",
     "output_type": "stream",
     "text": [
      "                   Specs         Score\n",
      "5                  price  9.877919e+06\n",
      "6       security_deposit  1.660605e+06\n",
      "9           extra_people  3.473598e+05\n",
      "14           summary_len  3.360757e+05\n",
      "10      availability_365  2.198020e+05\n",
      "8        guests_included  1.787220e+05\n",
      "1           accommodates  4.812739e+04\n",
      "13     reviews_per_month  2.548726e+04\n",
      "4                   beds  2.493654e+04\n",
      "7           cleaning_fee  2.284714e+04\n",
      "21           Entire_home  2.191496e+04\n",
      "20         Staten_Island  1.853515e+04\n",
      "3               bedrooms  1.407779e+04\n",
      "22          Private_room  1.388685e+04\n",
      "15        houserules_len  7.108965e+03\n",
      "17              Brooklyn  4.555423e+03\n",
      "2              bathrooms  4.248071e+03\n",
      "12  review_scores_rating  3.782436e+03\n",
      "18                Queens  3.223084e+03\n",
      "16             Manhattan  2.501787e+03\n"
     ]
    }
   ],
   "source": [
    "#concat two dataframes for better visualization \n",
    "featureScores = pd.concat([dfcolumns,dfscores],axis=1)\n",
    "#naming the dataframe columns\n",
    "featureScores.columns = ['Specs','Score']  \n",
    "print(featureScores.nlargest(20,'Score'))"
   ]
  },
  {
   "cell_type": "code",
   "execution_count": 38,
   "metadata": {},
   "outputs": [
    {
     "data": {
      "text/plain": [
       "RandomForestRegressor(n_estimators=10, random_state=0)"
      ]
     },
     "execution_count": 38,
     "metadata": {},
     "output_type": "execute_result"
    }
   ],
   "source": [
    "# fitting Random Forest Regression to the dataset\n",
    "from sklearn.ensemble import RandomForestRegressor\n",
    "regressor = RandomForestRegressor(n_estimators = 10, random_state = 0)\n",
    "regressor.fit(x_train, y_train)"
   ]
  },
  {
   "cell_type": "code",
   "execution_count": 39,
   "metadata": {},
   "outputs": [],
   "source": [
    "import matplotlib.pyplot as plt\n",
    "features=df_done1.columns\n",
    "importances = regressor.feature_importances_\n",
    "indices = np.argsort(importances)"
   ]
  },
  {
   "cell_type": "code",
   "execution_count": 40,
   "metadata": {},
   "outputs": [
    {
     "data": {
      "text/plain": [
       "Text(0.5, 0, 'Relative Importance')"
      ]
     },
     "execution_count": 40,
     "metadata": {},
     "output_type": "execute_result"
    },
    {
     "data": {
      "image/png": "[encoded data removed]",
      "text/plain": [
       "<Figure size 432x288 with 1 Axes>"
      ]
     },
     "metadata": {
      "needs_background": "light"
     },
     "output_type": "display_data"
    }
   ],
   "source": [
    "plt.figure(1)\n",
    "plt.title('Feature Importances')\n",
    "plt.barh(range(len(indices)), importances[indices], color='b', align='center')\n",
    "plt.yticks(range(len(indices)), features[indices])\n",
    "plt.xlabel('Relative Importance')"
   ]
  },
  {
   "cell_type": "markdown",
   "metadata": {},
   "source": [
    "reviews_per_month is one of important feature in the data analysis, but I don't think it is import for the renter to predict the price"
   ]
  },
  {
   "cell_type": "code",
   "execution_count": 41,
   "metadata": {},
   "outputs": [],
   "source": [
    "# move price to the last column and remove more columns based on common sense and data analysis\n",
    "list(df_done1.columns)\n",
    "df_done2 = df_done1[[\n",
    " 'bathrooms',\n",
    " 'bedrooms',\n",
    " 'beds',\n",
    " 'security_deposit',\n",
    " 'cleaning_fee',\n",
    " 'guests_included',\n",
    " 'extra_people',\n",
    " 'number_of_reviews',\n",
    " 'review_scores_rating',\n",
    " 'Manhattan',\n",
    " 'Brooklyn',\n",
    " 'Queens',\n",
    " 'Entire_home',\n",
    " 'Private_room',\n",
    " 'Shared_room',\n",
    " 'price']]"
   ]
  },
  {
   "cell_type": "code",
   "execution_count": 42,
   "metadata": {},
   "outputs": [
    {
     "name": "stdout",
     "output_type": "stream",
     "text": [
      "<class 'pandas.core.frame.DataFrame'>\n",
      "Int64Index: 81185 entries, 0 to 48091\n",
      "Data columns (total 16 columns):\n",
      " #   Column                Non-Null Count  Dtype  \n",
      "---  ------                --------------  -----  \n",
      " 0   bathrooms             81185 non-null  float64\n",
      " 1   bedrooms              81185 non-null  float64\n",
      " 2   beds                  81185 non-null  float64\n",
      " 3   security_deposit      81185 non-null  object \n",
      " 4   cleaning_fee          81185 non-null  object \n",
      " 5   guests_included       81185 non-null  int64  \n",
      " 6   extra_people          81185 non-null  object \n",
      " 7   number_of_reviews     81185 non-null  int64  \n",
      " 8   review_scores_rating  81185 non-null  float64\n",
      " 9   Manhattan             81185 non-null  int64  \n",
      " 10  Brooklyn              81185 non-null  int64  \n",
      " 11  Queens                81185 non-null  int64  \n",
      " 12  Entire_home           81185 non-null  int64  \n",
      " 13  Private_room          81185 non-null  int64  \n",
      " 14  Shared_room           81185 non-null  int64  \n",
      " 15  price                 81185 non-null  float64\n",
      "dtypes: float64(5), int64(8), object(3)\n",
      "memory usage: 10.5+ MB\n"
     ]
    }
   ],
   "source": [
    "df_done2.info()"
   ]
  },
  {
   "cell_type": "code",
   "execution_count": 43,
   "metadata": {},
   "outputs": [],
   "source": [
    "# change the all the data type to int\n",
    "df_done2[['bathrooms','bedrooms','beds','security_deposit','cleaning_fee','extra_people','review_scores_rating','price']] = df_done2[['bathrooms','bedrooms','beds','security_deposit','cleaning_fee','extra_people','review_scores_rating','price']].astype(float)\n",
    "df_done2[['bathrooms','bedrooms','beds','security_deposit','cleaning_fee','extra_people','review_scores_rating','price']] = df_done2[['bathrooms','bedrooms','beds','security_deposit','cleaning_fee','extra_people','review_scores_rating','price']].astype(int)"
   ]
  },
  {
   "cell_type": "markdown",
   "metadata": {},
   "source": [
    "### Detect outliner"
   ]
  },
  {
   "cell_type": "code",
   "execution_count": 44,
   "metadata": {},
   "outputs": [],
   "source": [
    "#detect outlines use z score\n",
    "import numpy as np\n",
    "from scipy import stats\n",
    "z = np.abs(stats.zscore(df_done2))"
   ]
  },
  {
   "cell_type": "code",
   "execution_count": 45,
   "metadata": {},
   "outputs": [
    {
     "data": {
      "text/plain": [
       "(70478, 16)"
      ]
     },
     "execution_count": 45,
     "metadata": {},
     "output_type": "execute_result"
    }
   ],
   "source": [
    "#  remove outlines\n",
    "threshold = 3\n",
    "np.where(z > 3)\n",
    "\n",
    "df_done2.shape\n",
    "df_o = df_done2[(z < 3).all(axis=1)]\n",
    "df_o.shape"
   ]
  },
  {
   "cell_type": "code",
   "execution_count": 46,
   "metadata": {},
   "outputs": [],
   "source": [
    "# writing data to local \n",
    "df_o.to_csv(\"Final_dataset.csv\", sep = \",\", index = False)"
   ]
  },
  {
   "cell_type": "code",
   "execution_count": null,
   "metadata": {},
   "outputs": [],
   "source": []
  }
 ],
 "metadata": {
  "kernelspec": {
   "display_name": "Python 3",
   "language": "python",
   "name": "python3"
  },
  "language_info": {
   "codemirror_mode": {
    "name": "ipython",
    "version": 3
   },
   "file_extension": ".py",
   "mimetype": "text/x-python",
   "name": "python",
   "nbconvert_exporter": "python",
   "pygments_lexer": "ipython3",
   "version": "3.8.5"
  }
 },
 "nbformat": 4,
 "nbformat_minor": 2
}
