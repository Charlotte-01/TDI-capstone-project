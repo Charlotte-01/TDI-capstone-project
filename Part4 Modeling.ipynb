{
 "cells": [
  {
   "cell_type": "code",
   "execution_count": 1,
   "metadata": {},
   "outputs": [],
   "source": [
    "import pandas as pd"
   ]
  },
  {
   "cell_type": "code",
   "execution_count": 2,
   "metadata": {},
   "outputs": [],
   "source": [
    "df = pd.read_csv(\"Final_dataset.csv\")"
   ]
  },
  {
   "cell_type": "code",
   "execution_count": 3,
   "metadata": {},
   "outputs": [],
   "source": [
    "#change column names to make it clearer \n",
    "df.rename(columns={'bathrooms':'Number of bathrooms:'},inplace=True)\n",
    "df.rename(columns={'bedrooms':'Number of bedrooms:'},inplace=True)\n",
    "df.rename(columns={'beds':'Number of beds:'},inplace=True)\n",
    "df.rename(columns={'security_deposit':'Amount of security deposits ($):'},inplace=True)\n",
    "df.rename(columns={'cleaning_fee':'Amount of cleaning fee ($):'},inplace=True)\n",
    "df.rename(columns={'guests_included':'Number of guests:'},inplace=True)\n",
    "df.rename(columns={'extra_people':'Number of extra people:'},inplace=True)\n",
    "df.rename(columns={'number_of_reviews':'Number of reviews:'},inplace=True)\n",
    "df.rename(columns={'review_scores_rating':'Review scores rating (0-100):'},inplace=True)"
   ]
  },
  {
   "cell_type": "code",
   "execution_count": 4,
   "metadata": {},
   "outputs": [
    {
     "data": {
      "text/html": [
       "<div>\n",
       "<style scoped>\n",
       "    .dataframe tbody tr th:only-of-type {\n",
       "        vertical-align: middle;\n",
       "    }\n",
       "\n",
       "    .dataframe tbody tr th {\n",
       "        vertical-align: top;\n",
       "    }\n",
       "\n",
       "    .dataframe thead th {\n",
       "        text-align: right;\n",
       "    }\n",
       "</style>\n",
       "<table border=\"1\" class=\"dataframe\">\n",
       "  <thead>\n",
       "    <tr style=\"text-align: right;\">\n",
       "      <th></th>\n",
       "      <th>Number of bathrooms:</th>\n",
       "      <th>Number of bedrooms:</th>\n",
       "      <th>Number of beds:</th>\n",
       "      <th>Amount of security deposits ($):</th>\n",
       "      <th>Amount of cleaning fee ($):</th>\n",
       "      <th>Number of guests:</th>\n",
       "      <th>Number of extra people:</th>\n",
       "      <th>Number of reviews:</th>\n",
       "      <th>Review scores rating (0-100):</th>\n",
       "      <th>Manhattan</th>\n",
       "      <th>Brooklyn</th>\n",
       "      <th>Queens</th>\n",
       "      <th>Entire_home</th>\n",
       "      <th>Private_room</th>\n",
       "      <th>Shared_room</th>\n",
       "      <th>price</th>\n",
       "    </tr>\n",
       "  </thead>\n",
       "  <tbody>\n",
       "    <tr>\n",
       "      <th>0</th>\n",
       "      <td>1</td>\n",
       "      <td>0</td>\n",
       "      <td>1</td>\n",
       "      <td>350</td>\n",
       "      <td>100</td>\n",
       "      <td>2</td>\n",
       "      <td>0</td>\n",
       "      <td>46</td>\n",
       "      <td>95</td>\n",
       "      <td>1</td>\n",
       "      <td>0</td>\n",
       "      <td>0</td>\n",
       "      <td>1</td>\n",
       "      <td>0</td>\n",
       "      <td>0</td>\n",
       "      <td>225</td>\n",
       "    </tr>\n",
       "    <tr>\n",
       "      <th>1</th>\n",
       "      <td>1</td>\n",
       "      <td>1</td>\n",
       "      <td>1</td>\n",
       "      <td>300</td>\n",
       "      <td>125</td>\n",
       "      <td>2</td>\n",
       "      <td>100</td>\n",
       "      <td>75</td>\n",
       "      <td>89</td>\n",
       "      <td>1</td>\n",
       "      <td>0</td>\n",
       "      <td>0</td>\n",
       "      <td>1</td>\n",
       "      <td>0</td>\n",
       "      <td>0</td>\n",
       "      <td>200</td>\n",
       "    </tr>\n",
       "    <tr>\n",
       "      <th>2</th>\n",
       "      <td>1</td>\n",
       "      <td>1</td>\n",
       "      <td>1</td>\n",
       "      <td>500</td>\n",
       "      <td>75</td>\n",
       "      <td>2</td>\n",
       "      <td>15</td>\n",
       "      <td>94</td>\n",
       "      <td>95</td>\n",
       "      <td>1</td>\n",
       "      <td>0</td>\n",
       "      <td>0</td>\n",
       "      <td>1</td>\n",
       "      <td>0</td>\n",
       "      <td>0</td>\n",
       "      <td>116</td>\n",
       "    </tr>\n",
       "    <tr>\n",
       "      <th>3</th>\n",
       "      <td>1</td>\n",
       "      <td>1</td>\n",
       "      <td>2</td>\n",
       "      <td>0</td>\n",
       "      <td>40</td>\n",
       "      <td>2</td>\n",
       "      <td>10</td>\n",
       "      <td>161</td>\n",
       "      <td>94</td>\n",
       "      <td>1</td>\n",
       "      <td>0</td>\n",
       "      <td>0</td>\n",
       "      <td>1</td>\n",
       "      <td>0</td>\n",
       "      <td>0</td>\n",
       "      <td>150</td>\n",
       "    </tr>\n",
       "    <tr>\n",
       "      <th>4</th>\n",
       "      <td>1</td>\n",
       "      <td>1</td>\n",
       "      <td>1</td>\n",
       "      <td>450</td>\n",
       "      <td>75</td>\n",
       "      <td>1</td>\n",
       "      <td>0</td>\n",
       "      <td>53</td>\n",
       "      <td>93</td>\n",
       "      <td>1</td>\n",
       "      <td>0</td>\n",
       "      <td>0</td>\n",
       "      <td>1</td>\n",
       "      <td>0</td>\n",
       "      <td>0</td>\n",
       "      <td>135</td>\n",
       "    </tr>\n",
       "  </tbody>\n",
       "</table>\n",
       "</div>"
      ],
      "text/plain": [
       "   Number of bathrooms:  Number of bedrooms:  Number of beds:  \\\n",
       "0                     1                    0                1   \n",
       "1                     1                    1                1   \n",
       "2                     1                    1                1   \n",
       "3                     1                    1                2   \n",
       "4                     1                    1                1   \n",
       "\n",
       "   Amount of security deposits ($):  Amount of cleaning fee ($):  \\\n",
       "0                               350                          100   \n",
       "1                               300                          125   \n",
       "2                               500                           75   \n",
       "3                                 0                           40   \n",
       "4                               450                           75   \n",
       "\n",
       "   Number of guests:  Number of extra people:  Number of reviews:  \\\n",
       "0                  2                        0                  46   \n",
       "1                  2                      100                  75   \n",
       "2                  2                       15                  94   \n",
       "3                  2                       10                 161   \n",
       "4                  1                        0                  53   \n",
       "\n",
       "   Review scores rating (0-100):  Manhattan  Brooklyn  Queens  Entire_home  \\\n",
       "0                             95          1         0       0            1   \n",
       "1                             89          1         0       0            1   \n",
       "2                             95          1         0       0            1   \n",
       "3                             94          1         0       0            1   \n",
       "4                             93          1         0       0            1   \n",
       "\n",
       "   Private_room  Shared_room  price  \n",
       "0             0            0    225  \n",
       "1             0            0    200  \n",
       "2             0            0    116  \n",
       "3             0            0    150  \n",
       "4             0            0    135  "
      ]
     },
     "execution_count": 4,
     "metadata": {},
     "output_type": "execute_result"
    }
   ],
   "source": [
    "df.head()"
   ]
  },
  {
   "cell_type": "code",
   "execution_count": 5,
   "metadata": {},
   "outputs": [],
   "source": [
    "# independent variables and dependent variable\n",
    "x = df.iloc[:, 0:15].values\n",
    "y = df.iloc[:, 15].values"
   ]
  },
  {
   "cell_type": "code",
   "execution_count": 6,
   "metadata": {},
   "outputs": [],
   "source": [
    "# traing set and test set\n",
    "from sklearn.model_selection import train_test_split\n",
    "x_train, x_test, y_train, y_test = train_test_split(x, y, test_size = 0.20, random_state = 0)"
   ]
  },
  {
   "cell_type": "code",
   "execution_count": 7,
   "metadata": {},
   "outputs": [
    {
     "data": {
      "text/plain": [
       "RandomForestRegressor(n_estimators=64, random_state=0)"
      ]
     },
     "execution_count": 7,
     "metadata": {},
     "output_type": "execute_result"
    }
   ],
   "source": [
    "# fitting Random Forest Regression to the dataset\n",
    "from sklearn.ensemble import RandomForestRegressor\n",
    "regressor = RandomForestRegressor(n_estimators = 64, random_state = 0)\n",
    "regressor.fit(x_train, y_train)"
   ]
  },
  {
   "cell_type": "code",
   "execution_count": 16,
   "metadata": {},
   "outputs": [],
   "source": [
    "# predict y value using x test set\n",
    "y_pred = regressor.predict(x_test)"
   ]
  },
  {
   "cell_type": "code",
   "execution_count": 10,
   "metadata": {},
   "outputs": [
    {
     "data": {
      "text/plain": [
       "0.8601316196554464"
      ]
     },
     "execution_count": 10,
     "metadata": {},
     "output_type": "execute_result"
    }
   ],
   "source": [
    "# find correlation between y predict and y test\n",
    "from sklearn.metrics import r2_score\n",
    "R2 = r2_score(y_test, y_pred)\n",
    "R2"
   ]
  },
  {
   "cell_type": "code",
   "execution_count": 13,
   "metadata": {},
   "outputs": [
    {
     "data": {
      "image/png": "[encoded data removed]",
      "text/plain": [
       "<Figure size 432x288 with 1 Axes>"
      ]
     },
     "metadata": {
      "needs_background": "light"
     },
     "output_type": "display_data"
    }
   ],
   "source": [
    "#1. Line plot\n",
    "import matplotlib.pyplot as plt  \n",
    "predict =regressor.predict(x_test)\n",
    "df_test= pd.DataFrame({'Number':list(range(len(y_test))),'Actual':y_test,'Predict':predict})\n",
    "df_test_100=df_test.head(101)\n",
    "Number = df_test_100['Number']\n",
    "Actual = df_test_100['Actual']\n",
    "Predict = df_test_100['Predict']\n",
    "plt.plot(Number, Actual, 'b-', label='Actual')\n",
    "plt.plot(Number, Predict, 'g-', label='Predicted')\n",
    "plt.legend(loc='upper left')\n",
    "plt.title('Predicted Results vs Actual Results')\n",
    "plt.ylabel('Price per night($)')\n",
    "plt.savefig('Predicted Results vs Actual Results1.png')"
   ]
  },
  {
   "cell_type": "code",
   "execution_count": 14,
   "metadata": {},
   "outputs": [
    {
     "data": {
      "image/png": "[encoded data removed]",
      "text/plain": [
       "<Figure size 1152x720 with 1 Axes>"
      ]
     },
     "metadata": {
      "needs_background": "light"
     },
     "output_type": "display_data"
    },
    {
     "data": {
      "text/plain": [
       "<Figure size 432x288 with 0 Axes>"
      ]
     },
     "metadata": {},
     "output_type": "display_data"
    }
   ],
   "source": [
    "#2.Bar plot \n",
    "import matplotlib.pyplot as plt  \n",
    "predict =regressor.predict(x_test)\n",
    "df= pd.DataFrame({'Actual':y_test,'Predict':predict})\n",
    "df1 = df.head(51)\n",
    "df1.plot(kind='bar',figsize=(16,10))\n",
    "plt.grid(which='major', linestyle='-', linewidth='0.5', color='green')\n",
    "plt.grid(which='minor', linestyle=':', linewidth='0.5', color='black')\n",
    "plt.legend(loc='upper left')\n",
    "plt.title('Predicted Results vs Actual Results')\n",
    "plt.ylabel('Price per night ($)')\n",
    "plt.show()\n",
    "plt.savefig('Predicted Results vs Actual Results2.png')"
   ]
  },
  {
   "cell_type": "code",
   "execution_count": null,
   "metadata": {},
   "outputs": [],
   "source": []
  }
 ],
 "metadata": {
  "kernelspec": {
   "display_name": "Python 3",
   "language": "python",
   "name": "python3"
  },
  "language_info": {
   "codemirror_mode": {
    "name": "ipython",
    "version": 3
   },
   "file_extension": ".py",
   "mimetype": "text/x-python",
   "name": "python",
   "nbconvert_exporter": "python",
   "pygments_lexer": "ipython3",
   "version": "3.8.5"
  }
 },
 "nbformat": 4,
 "nbformat_minor": 4
}
